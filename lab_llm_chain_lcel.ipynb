{
  "cells": [
    {
      "cell_type": "markdown",
      "id": "9316da0d",
      "metadata": {
        "id": "9316da0d"
      },
      "source": [
        "# Lab | Simple LLM App with LCEL\n",
        "\n",
        "In this quickstart we'll show you how to build a simple LLM application with LangChain. This application will translate text from English into another language. This is a relatively simple LLM application - it's just a single LLM call plus some prompting. Still, this is a great way to get started with LangChain - a lot of features can be built with just some prompting and an LLM call!\n",
        "\n",
        "### LangSmith\n",
        "\n",
        "Many of the applications you build with LangChain will contain multiple steps with multiple invocations of LLM calls.\n",
        "As these applications get more and more complex, it becomes crucial to be able to inspect what exactly is going on inside your chain or agent.\n",
        "The best way to do this is with [LangSmith](https://smith.langchain.com).\n",
        "\n",
        "After you sign up at the link above, make sure to set your environment variables to start logging traces:\n",
        "\n",
        "```shell\n",
        "export LANGCHAIN_TRACING_V2=\"true\"\n",
        "export LANGCHAIN_API_KEY=\"...\"\n",
        "```\n",
        "\n",
        "Or, if in a notebook, you can set them with:\n",
        "\n",
        "```python\n",
        "import getpass\n",
        "import os\n",
        "\n",
        "os.environ[\"LANGCHAIN_TRACING_V2\"] = \"true\"\n",
        "os.environ[\"LANGCHAIN_API_KEY\"] = getpass.getpass()\n",
        "```"
      ]
    },
    {
      "cell_type": "code",
      "source": [
        "# New Cell.\n",
        "!pip install langchain_openai\n",
        "!pip install openai"
      ],
      "metadata": {
        "colab": {
          "base_uri": "https://localhost:8080/"
        },
        "id": "s_27amNkoKC_",
        "outputId": "89a8489d-dee3-49c7-b33b-74b32c76e92a"
      },
      "id": "s_27amNkoKC_",
      "execution_count": 42,
      "outputs": [
        {
          "output_type": "stream",
          "name": "stdout",
          "text": [
            "Requirement already satisfied: langchain_openai in /usr/local/lib/python3.10/dist-packages (0.1.14)\n",
            "Requirement already satisfied: langchain-core<0.3,>=0.2.2 in /usr/local/lib/python3.10/dist-packages (from langchain_openai) (0.2.11)\n",
            "Requirement already satisfied: openai<2.0.0,>=1.32.0 in /usr/local/lib/python3.10/dist-packages (from langchain_openai) (1.35.9)\n",
            "Requirement already satisfied: tiktoken<1,>=0.7 in /usr/local/lib/python3.10/dist-packages (from langchain_openai) (0.7.0)\n",
            "Requirement already satisfied: PyYAML>=5.3 in /usr/local/lib/python3.10/dist-packages (from langchain-core<0.3,>=0.2.2->langchain_openai) (6.0.1)\n",
            "Requirement already satisfied: jsonpatch<2.0,>=1.33 in /usr/local/lib/python3.10/dist-packages (from langchain-core<0.3,>=0.2.2->langchain_openai) (1.33)\n",
            "Requirement already satisfied: langsmith<0.2.0,>=0.1.75 in /usr/local/lib/python3.10/dist-packages (from langchain-core<0.3,>=0.2.2->langchain_openai) (0.1.83)\n",
            "Requirement already satisfied: packaging<25,>=23.2 in /usr/local/lib/python3.10/dist-packages (from langchain-core<0.3,>=0.2.2->langchain_openai) (24.1)\n",
            "Requirement already satisfied: pydantic<3,>=1 in /usr/local/lib/python3.10/dist-packages (from langchain-core<0.3,>=0.2.2->langchain_openai) (2.7.4)\n",
            "Requirement already satisfied: tenacity!=8.4.0,<9.0.0,>=8.1.0 in /usr/local/lib/python3.10/dist-packages (from langchain-core<0.3,>=0.2.2->langchain_openai) (8.4.2)\n",
            "Requirement already satisfied: anyio<5,>=3.5.0 in /usr/local/lib/python3.10/dist-packages (from openai<2.0.0,>=1.32.0->langchain_openai) (3.7.1)\n",
            "Requirement already satisfied: distro<2,>=1.7.0 in /usr/lib/python3/dist-packages (from openai<2.0.0,>=1.32.0->langchain_openai) (1.7.0)\n",
            "Requirement already satisfied: httpx<1,>=0.23.0 in /usr/local/lib/python3.10/dist-packages (from openai<2.0.0,>=1.32.0->langchain_openai) (0.27.0)\n",
            "Requirement already satisfied: sniffio in /usr/local/lib/python3.10/dist-packages (from openai<2.0.0,>=1.32.0->langchain_openai) (1.3.1)\n",
            "Requirement already satisfied: tqdm>4 in /usr/local/lib/python3.10/dist-packages (from openai<2.0.0,>=1.32.0->langchain_openai) (4.66.4)\n",
            "Requirement already satisfied: typing-extensions<5,>=4.7 in /usr/local/lib/python3.10/dist-packages (from openai<2.0.0,>=1.32.0->langchain_openai) (4.12.2)\n",
            "Requirement already satisfied: regex>=2022.1.18 in /usr/local/lib/python3.10/dist-packages (from tiktoken<1,>=0.7->langchain_openai) (2024.5.15)\n",
            "Requirement already satisfied: requests>=2.26.0 in /usr/local/lib/python3.10/dist-packages (from tiktoken<1,>=0.7->langchain_openai) (2.31.0)\n",
            "Requirement already satisfied: idna>=2.8 in /usr/local/lib/python3.10/dist-packages (from anyio<5,>=3.5.0->openai<2.0.0,>=1.32.0->langchain_openai) (3.7)\n",
            "Requirement already satisfied: exceptiongroup in /usr/local/lib/python3.10/dist-packages (from anyio<5,>=3.5.0->openai<2.0.0,>=1.32.0->langchain_openai) (1.2.1)\n",
            "Requirement already satisfied: certifi in /usr/local/lib/python3.10/dist-packages (from httpx<1,>=0.23.0->openai<2.0.0,>=1.32.0->langchain_openai) (2024.6.2)\n",
            "Requirement already satisfied: httpcore==1.* in /usr/local/lib/python3.10/dist-packages (from httpx<1,>=0.23.0->openai<2.0.0,>=1.32.0->langchain_openai) (1.0.5)\n",
            "Requirement already satisfied: h11<0.15,>=0.13 in /usr/local/lib/python3.10/dist-packages (from httpcore==1.*->httpx<1,>=0.23.0->openai<2.0.0,>=1.32.0->langchain_openai) (0.14.0)\n",
            "Requirement already satisfied: jsonpointer>=1.9 in /usr/local/lib/python3.10/dist-packages (from jsonpatch<2.0,>=1.33->langchain-core<0.3,>=0.2.2->langchain_openai) (3.0.0)\n",
            "Requirement already satisfied: orjson<4.0.0,>=3.9.14 in /usr/local/lib/python3.10/dist-packages (from langsmith<0.2.0,>=0.1.75->langchain-core<0.3,>=0.2.2->langchain_openai) (3.10.6)\n",
            "Requirement already satisfied: annotated-types>=0.4.0 in /usr/local/lib/python3.10/dist-packages (from pydantic<3,>=1->langchain-core<0.3,>=0.2.2->langchain_openai) (0.7.0)\n",
            "Requirement already satisfied: pydantic-core==2.18.4 in /usr/local/lib/python3.10/dist-packages (from pydantic<3,>=1->langchain-core<0.3,>=0.2.2->langchain_openai) (2.18.4)\n",
            "Requirement already satisfied: charset-normalizer<4,>=2 in /usr/local/lib/python3.10/dist-packages (from requests>=2.26.0->tiktoken<1,>=0.7->langchain_openai) (3.3.2)\n",
            "Requirement already satisfied: urllib3<3,>=1.21.1 in /usr/local/lib/python3.10/dist-packages (from requests>=2.26.0->tiktoken<1,>=0.7->langchain_openai) (2.0.7)\n",
            "Requirement already satisfied: openai in /usr/local/lib/python3.10/dist-packages (1.35.9)\n",
            "Requirement already satisfied: anyio<5,>=3.5.0 in /usr/local/lib/python3.10/dist-packages (from openai) (3.7.1)\n",
            "Requirement already satisfied: distro<2,>=1.7.0 in /usr/lib/python3/dist-packages (from openai) (1.7.0)\n",
            "Requirement already satisfied: httpx<1,>=0.23.0 in /usr/local/lib/python3.10/dist-packages (from openai) (0.27.0)\n",
            "Requirement already satisfied: pydantic<3,>=1.9.0 in /usr/local/lib/python3.10/dist-packages (from openai) (2.7.4)\n",
            "Requirement already satisfied: sniffio in /usr/local/lib/python3.10/dist-packages (from openai) (1.3.1)\n",
            "Requirement already satisfied: tqdm>4 in /usr/local/lib/python3.10/dist-packages (from openai) (4.66.4)\n",
            "Requirement already satisfied: typing-extensions<5,>=4.7 in /usr/local/lib/python3.10/dist-packages (from openai) (4.12.2)\n",
            "Requirement already satisfied: idna>=2.8 in /usr/local/lib/python3.10/dist-packages (from anyio<5,>=3.5.0->openai) (3.7)\n",
            "Requirement already satisfied: exceptiongroup in /usr/local/lib/python3.10/dist-packages (from anyio<5,>=3.5.0->openai) (1.2.1)\n",
            "Requirement already satisfied: certifi in /usr/local/lib/python3.10/dist-packages (from httpx<1,>=0.23.0->openai) (2024.6.2)\n",
            "Requirement already satisfied: httpcore==1.* in /usr/local/lib/python3.10/dist-packages (from httpx<1,>=0.23.0->openai) (1.0.5)\n",
            "Requirement already satisfied: h11<0.15,>=0.13 in /usr/local/lib/python3.10/dist-packages (from httpcore==1.*->httpx<1,>=0.23.0->openai) (0.14.0)\n",
            "Requirement already satisfied: annotated-types>=0.4.0 in /usr/local/lib/python3.10/dist-packages (from pydantic<3,>=1.9.0->openai) (0.7.0)\n",
            "Requirement already satisfied: pydantic-core==2.18.4 in /usr/local/lib/python3.10/dist-packages (from pydantic<3,>=1.9.0->openai) (2.18.4)\n"
          ]
        }
      ]
    },
    {
      "cell_type": "code",
      "source": [
        "# New Cell.\n",
        "from getpass import getpass\n",
        "LANGCHAIN_API_KEY = getpass('LANGCHAIN_API_KEY')"
      ],
      "metadata": {
        "colab": {
          "base_uri": "https://localhost:8080/"
        },
        "id": "OplS_MpQop69",
        "outputId": "ffda964a-8bc6-4520-ddcc-cdeddfab7ba0"
      },
      "id": "OplS_MpQop69",
      "execution_count": 43,
      "outputs": [
        {
          "name": "stdout",
          "output_type": "stream",
          "text": [
            "LANGCHAIN_API_KEY··········\n"
          ]
        }
      ]
    },
    {
      "cell_type": "code",
      "source": [
        "# New Cell.\n",
        "import os\n",
        "api_key = getpass('OPENAI_API_KEY')\n",
        "\n",
        "os.environ['OPENAI_API_KEY'] = api_key"
      ],
      "metadata": {
        "colab": {
          "base_uri": "https://localhost:8080/"
        },
        "id": "eNRt70uhp5Lj",
        "outputId": "e5c66835-40fc-4c38-b539-4f69d45d73e8"
      },
      "id": "eNRt70uhp5Lj",
      "execution_count": 44,
      "outputs": [
        {
          "name": "stdout",
          "output_type": "stream",
          "text": [
            "OPENAI_API_KEY··········\n"
          ]
        }
      ]
    },
    {
      "cell_type": "code",
      "source": [
        "# New Cell.\n",
        "\n",
        "from langchain_openai import ChatOpenAI\n",
        "#openai_model = OpenAI(openai_api_key=api_key)\n",
        "model_name = 'gpt-3.5-turbo'\n",
        "model = ChatOpenAI(model=model_name)"
      ],
      "metadata": {
        "id": "A8F_V84-tUoT"
      },
      "id": "A8F_V84-tUoT",
      "execution_count": 45,
      "outputs": []
    },
    {
      "cell_type": "code",
      "execution_count": 46,
      "id": "e4b41234",
      "metadata": {
        "id": "e4b41234"
      },
      "outputs": [],
      "source": [
        "# | output: false\n",
        "# | echo: false\n",
        "\n",
        "from langchain_openai import ChatOpenAI\n",
        "\n",
        "model = ChatOpenAI(model= 'gpt-3.5-turbo')"
      ]
    },
    {
      "cell_type": "markdown",
      "id": "ca5642ff",
      "metadata": {
        "id": "ca5642ff"
      },
      "source": [
        "Let's first use the model directly. `ChatModel`s are instances of LangChain \"Runnables\", which means they expose a standard interface for interacting with them. To just simply call the model, we can pass in a list of messages to the `.invoke` method."
      ]
    },
    {
      "cell_type": "code",
      "execution_count": 47,
      "id": "1b2481f0",
      "metadata": {
        "colab": {
          "base_uri": "https://localhost:8080/"
        },
        "id": "1b2481f0",
        "outputId": "a55d79b3-6fb4-49bd-d132-f09b2fed4001"
      },
      "outputs": [
        {
          "output_type": "execute_result",
          "data": {
            "text/plain": [
              "AIMessage(content='Ciao bellissima, cosa ti va di bere oggi?!', response_metadata={'token_usage': {'completion_tokens': 13, 'prompt_tokens': 29, 'total_tokens': 42}, 'model_name': 'gpt-3.5-turbo-0125', 'system_fingerprint': None, 'finish_reason': 'stop', 'logprobs': None}, id='run-1b202afb-6080-45d1-a1af-c82bf32fb54d-0', usage_metadata={'input_tokens': 29, 'output_tokens': 13, 'total_tokens': 42})"
            ]
          },
          "metadata": {},
          "execution_count": 47
        }
      ],
      "source": [
        "from langchain_core.messages import HumanMessage, SystemMessage\n",
        "\n",
        "messages = [\n",
        "    SystemMessage(content=\"Translate the following from English into Italian\"), #Feel free to try something else here\n",
        "    HumanMessage(content=\"Hi beautiful, what do u like to drink today?!\"),\n",
        "]\n",
        "\n",
        "model.invoke(messages)"
      ]
    },
    {
      "cell_type": "markdown",
      "id": "f83373db",
      "metadata": {
        "id": "f83373db"
      },
      "source": [
        "If we've enable LangSmith, we can see that this run is logged to LangSmith, and can see the [LangSmith trace](https://smith.langchain.com/public/88baa0b2-7c1a-4d09-ba30-a47985dde2ea/r)"
      ]
    },
    {
      "cell_type": "markdown",
      "id": "32bd03ed",
      "metadata": {
        "id": "32bd03ed"
      },
      "source": [
        "## OutputParsers\n",
        "\n",
        "Notice that the response from the model is an `AIMessage`. This contains a string response along with other metadata about the response. Oftentimes we may just want to work with the string response. We can parse out just this response by using a simple output parser.\n",
        "\n",
        "We first import the simple output parser."
      ]
    },
    {
      "cell_type": "code",
      "execution_count": 48,
      "id": "d7ae9c58",
      "metadata": {
        "id": "d7ae9c58"
      },
      "outputs": [],
      "source": [
        "from langchain_core.output_parsers import StrOutputParser\n",
        "\n",
        "parser = StrOutputParser()"
      ]
    },
    {
      "cell_type": "markdown",
      "id": "eaebe33a",
      "metadata": {
        "id": "eaebe33a"
      },
      "source": [
        "One way to use it is to use it by itself. For example, we could save the result of the language model call and then pass it to the parser."
      ]
    },
    {
      "cell_type": "code",
      "execution_count": 49,
      "id": "6bacb837",
      "metadata": {
        "id": "6bacb837"
      },
      "outputs": [],
      "source": [
        "result = model.invoke(messages)"
      ]
    },
    {
      "cell_type": "code",
      "execution_count": 50,
      "id": "efb8da87",
      "metadata": {
        "colab": {
          "base_uri": "https://localhost:8080/",
          "height": 35
        },
        "id": "efb8da87",
        "outputId": "aac75b58-b45e-422b-b013-42ce45f33366"
      },
      "outputs": [
        {
          "output_type": "execute_result",
          "data": {
            "text/plain": [
              "'Ciao bella, cosa ti piace bere oggi?!'"
            ],
            "application/vnd.google.colaboratory.intrinsic+json": {
              "type": "string"
            }
          },
          "metadata": {},
          "execution_count": 50
        }
      ],
      "source": [
        "parser.invoke(result)"
      ]
    },
    {
      "cell_type": "markdown",
      "id": "d508b79d",
      "metadata": {
        "id": "d508b79d"
      },
      "source": [
        "More commonly, we can \"chain\" the model with this output parser. This means this output parser will get called everytime in this chain. This chain takes on the input type of the language model (string or list of message) and returns the output type of the output parser (string).\n",
        "\n",
        "We can easily create the chain using the `|` operator. The `|` operator is used in LangChain to combine two elements together."
      ]
    },
    {
      "cell_type": "code",
      "execution_count": 52,
      "id": "9449cfa6",
      "metadata": {
        "id": "9449cfa6"
      },
      "outputs": [],
      "source": [
        "chain = model | parser"
      ]
    },
    {
      "cell_type": "code",
      "execution_count": 53,
      "id": "3e82f933",
      "metadata": {
        "colab": {
          "base_uri": "https://localhost:8080/",
          "height": 35
        },
        "id": "3e82f933",
        "outputId": "b69c5878-9fcf-4204-85c0-1ac308d27686"
      },
      "outputs": [
        {
          "output_type": "execute_result",
          "data": {
            "text/plain": [
              "'Ciao bellissima, cosa ti piacerebbe bere oggi?!'"
            ],
            "application/vnd.google.colaboratory.intrinsic+json": {
              "type": "string"
            }
          },
          "metadata": {},
          "execution_count": 53
        }
      ],
      "source": [
        "chain.invoke(messages)"
      ]
    },
    {
      "cell_type": "markdown",
      "id": "dd009096",
      "metadata": {
        "id": "dd009096"
      },
      "source": [
        "If we now look at LangSmith, we can see that the chain has two steps: first the language model is called, then the result of that is passed to the output parser. We can see the [LangSmith trace]( https://smith.langchain.com/public/f1bdf656-2739-42f7-ac7f-0f1dd712322f/r)"
      ]
    },
    {
      "cell_type": "markdown",
      "id": "1ab8da31",
      "metadata": {
        "id": "1ab8da31"
      },
      "source": [
        "## Prompt Templates\n",
        "\n",
        "Right now we are passing a list of messages directly into the language model. Where does this list of messages come from? Usually, it is constructed from a combination of user input and application logic. This application logic usually takes the raw user input and transforms it into a list of messages ready to pass to the language model. Common transformations include adding a system message or formatting a template with the user input.\n",
        "\n",
        "PromptTemplates are a concept in LangChain designed to assist with this transformation. They take in raw user input and return data (a prompt) that is ready to pass into a language model.\n",
        "\n",
        "Let's create a PromptTemplate here. It will take in two user variables:\n",
        "\n",
        "- `language`: The language to translate text into\n",
        "- `text`: The text to translate"
      ]
    },
    {
      "cell_type": "code",
      "execution_count": 54,
      "id": "3e73cc20",
      "metadata": {
        "id": "3e73cc20"
      },
      "outputs": [],
      "source": [
        "from langchain_core.prompts import ChatPromptTemplate"
      ]
    },
    {
      "cell_type": "markdown",
      "id": "7e876c2a",
      "metadata": {
        "id": "7e876c2a"
      },
      "source": [
        "First, let's create a string that we will format to be the system message:"
      ]
    },
    {
      "cell_type": "code",
      "execution_count": 55,
      "id": "fd75ecde",
      "metadata": {
        "id": "fd75ecde"
      },
      "outputs": [],
      "source": [
        "system_template = \"Translate the following into {language}:\""
      ]
    },
    {
      "cell_type": "markdown",
      "id": "fedf6f13",
      "metadata": {
        "id": "fedf6f13"
      },
      "source": [
        "Next, we can create the PromptTemplate. This will be a combination of the `system_template` as well as a simpler template for where the put the text"
      ]
    },
    {
      "cell_type": "code",
      "execution_count": 56,
      "id": "88e566f3",
      "metadata": {
        "id": "88e566f3"
      },
      "outputs": [],
      "source": [
        "prompt_template = ChatPromptTemplate.from_messages(\n",
        "    [(\"system\", system_template), (\"user\", \"{text}\")]\n",
        ")"
      ]
    },
    {
      "cell_type": "markdown",
      "id": "d9711ba6",
      "metadata": {
        "id": "d9711ba6"
      },
      "source": [
        "The input to this prompt template is a dictionary. We can play around with this prompt template by itself to see what it does by itself"
      ]
    },
    {
      "cell_type": "code",
      "execution_count": 57,
      "id": "f781b3cb",
      "metadata": {
        "colab": {
          "base_uri": "https://localhost:8080/"
        },
        "id": "f781b3cb",
        "outputId": "3882ec38-e9bc-4a7a-e0a3-40b6aa913dc9"
      },
      "outputs": [
        {
          "output_type": "execute_result",
          "data": {
            "text/plain": [
              "ChatPromptValue(messages=[SystemMessage(content='Translate the following into Italian:'), HumanMessage(content='Good morning prencess')])"
            ]
          },
          "metadata": {},
          "execution_count": 57
        }
      ],
      "source": [
        "result = prompt_template.invoke({\"language\": \"Italian\", \"text\": \"Good morning prencess\"})\n",
        "\n",
        "result"
      ]
    },
    {
      "cell_type": "markdown",
      "id": "1a49ba9e",
      "metadata": {
        "id": "1a49ba9e"
      },
      "source": [
        "We can see that it returns a `ChatPromptValue` that consists of two messages. If we want to access the messages directly we do:"
      ]
    },
    {
      "cell_type": "code",
      "execution_count": 58,
      "id": "2159b619",
      "metadata": {
        "colab": {
          "base_uri": "https://localhost:8080/"
        },
        "id": "2159b619",
        "outputId": "bfc8dfb3-db01-4c39-9bab-d9a524a9d33a"
      },
      "outputs": [
        {
          "output_type": "execute_result",
          "data": {
            "text/plain": [
              "[SystemMessage(content='Translate the following into Italian:'),\n",
              " HumanMessage(content='Good morning prencess')]"
            ]
          },
          "metadata": {},
          "execution_count": 58
        }
      ],
      "source": [
        "result.to_messages()"
      ]
    },
    {
      "cell_type": "code",
      "source": [
        "# New Cell.\n",
        "result = model(prompt_template.invoke({\"language\": \"Italian\", \"text\": \"Good morning prencess\"}))\n",
        "print(result.content)"
      ],
      "metadata": {
        "colab": {
          "base_uri": "https://localhost:8080/"
        },
        "id": "Cesx4fSqHyAh",
        "outputId": "a8aa1d8e-e626-4c3a-fe9e-7f0ac670e61b"
      },
      "id": "Cesx4fSqHyAh",
      "execution_count": 59,
      "outputs": [
        {
          "output_type": "stream",
          "name": "stdout",
          "text": [
            "Buongiorno principessa\n"
          ]
        }
      ]
    },
    {
      "cell_type": "markdown",
      "id": "5a4267a8",
      "metadata": {
        "id": "5a4267a8"
      },
      "source": [
        "## Chaining together components with LCEL\n",
        "\n",
        "We can now combine this with the model and the output parser from above using the pipe (`|`) operator:"
      ]
    },
    {
      "cell_type": "code",
      "execution_count": 60,
      "id": "6c6beb4b",
      "metadata": {
        "id": "6c6beb4b"
      },
      "outputs": [],
      "source": [
        "chain = prompt_template | model | parser"
      ]
    },
    {
      "cell_type": "code",
      "execution_count": 61,
      "id": "3e45595a",
      "metadata": {
        "id": "3e45595a",
        "colab": {
          "base_uri": "https://localhost:8080/",
          "height": 35
        },
        "outputId": "0cbb04a2-cab0-416d-c0c1-1f5e2ecd7916"
      },
      "outputs": [
        {
          "output_type": "execute_result",
          "data": {
            "text/plain": [
              "'A volte mi fai impazzire, smetti di fare il cretino e permettimi di concentrarmi!'"
            ],
            "application/vnd.google.colaboratory.intrinsic+json": {
              "type": "string"
            }
          },
          "metadata": {},
          "execution_count": 61
        }
      ],
      "source": [
        "chain.invoke({\"language\": \"italian\", \"text\": \"Sometimes you drive me crazy, stop being so silly and let me focus!\"})"
      ]
    },
    {
      "cell_type": "markdown",
      "id": "0b19cecb",
      "metadata": {
        "id": "0b19cecb"
      },
      "source": [
        "This is a simple example of using [LangChain Expression Language (LCEL)](/docs/concepts/#langchain-expression-language-lcel) to chain together LangChain modules. There are several benefits to this approach, including optimized streaming and tracing support.\n",
        "\n",
        "If we take a look at the LangSmith trace, we can see all three components show up in the [LangSmith trace](https://smith.langchain.com/public/bc49bec0-6b13-4726-967f-dbd3448b786d/r)."
      ]
    },
    {
      "cell_type": "markdown",
      "id": "a515ddd0",
      "metadata": {
        "id": "a515ddd0"
      },
      "source": [
        "## Serving with LangServe\n",
        "\n",
        "Now that we've built an application, we need to serve it. That's where LangServe comes in.\n",
        "LangServe helps developers deploy LangChain chains as a REST API. You do not need to use LangServe to use LangChain, but in this guide we'll show how you can deploy your app with LangServe.\n",
        "\n",
        "While the first part of this guide was intended to be run in a Jupyter Notebook or script, we will now move out of that. We will be creating a Python file and then interacting with it from the command line.\n",
        "\n",
        "Install with:\n",
        "```bash\n",
        "pip install \"langserve[all]\"\n",
        "```\n",
        "\n",
        "### Server\n",
        "\n",
        "To create a server for our application we'll make a `serve.py` file. This will contain our logic for serving our application. It consists of three things:\n",
        "1. The definition of our chain that we just built above\n",
        "2. Our FastAPI app\n",
        "3. A definition of a route from which to serve the chain, which is done with `langserve.add_routes`\n",
        "\n",
        "\n",
        "```python\n",
        "#!/usr/bin/env python\n",
        "from typing import List\n",
        "\n",
        "from fastapi import FastAPI\n",
        "from langchain_core.prompts import ChatPromptTemplate\n",
        "from langchain_core.output_parsers import StrOutputParser\n",
        "from langchain_openai import ChatOpenAI\n",
        "from langserve import add_routes\n",
        "\n",
        "# 1. Create prompt template\n",
        "system_template = \"Translate the following into {language}:\"\n",
        "prompt_template = ChatPromptTemplate.from_messages([\n",
        "    ('system', system_template),\n",
        "    ('user', '{text}')\n",
        "])\n",
        "\n",
        "# 2. Create model\n",
        "model = ChatOpenAI()\n",
        "\n",
        "# 3. Create parser\n",
        "parser = StrOutputParser()\n",
        "\n",
        "# 4. Create chain\n",
        "chain = prompt_template | model | parser\n",
        "\n",
        "\n",
        "# 4. App definition\n",
        "app = FastAPI(\n",
        "  title=\"LangChain Server\",\n",
        "  version=\"1.0\",\n",
        "  description=\"A simple API server using LangChain's Runnable interfaces\",\n",
        ")\n",
        "\n",
        "# 5. Adding chain route\n",
        "\n",
        "add_routes(\n",
        "    app,\n",
        "    chain,\n",
        "    path=\"/chain\",\n",
        ")\n",
        "\n",
        "if __name__ == \"__main__\":\n",
        "    import uvicorn\n",
        "\n",
        "    uvicorn.run(app, host=\"localhost\", port=8000)\n",
        "```\n",
        "\n",
        "And that's it! If we execute this file:\n",
        "```bash\n",
        "python serve.py\n",
        "```\n",
        "we should see our chain being served at [http://localhost:8000](http://localhost:8000).\n",
        "\n",
        "### Playground\n",
        "\n",
        "Every LangServe service comes with a simple [built-in UI](https://github.com/langchain-ai/langserve/blob/main/README.md#playground) for configuring and invoking the application with streaming output and visibility into intermediate steps.\n",
        "Head to [http://localhost:8000/chain/playground/](http://localhost:8000/chain/playground/) to try it out! Pass in the same inputs as before - `{\"language\": \"italian\", \"text\": \"hi\"}` - and it should respond same as before.\n",
        "\n",
        "### Client\n",
        "\n",
        "Now let's set up a client for programmatically interacting with our service. We can easily do this with the `[langserve.RemoteRunnable](/docs/langserve/#client)`.\n",
        "Using this, we can interact with the served chain as if it were running client-side."
      ]
    },
    {
      "cell_type": "code",
      "execution_count": null,
      "id": "85174643",
      "metadata": {
        "id": "85174643"
      },
      "outputs": [],
      "source": [
        "from langserve import RemoteRunnable\n",
        "\n",
        "remote_chain = RemoteRunnable(\"http://localhost:8000/chain/\")\n",
        "remote_chain.invoke({\"language\": \"italian\", \"text\": None})"
      ]
    },
    {
      "cell_type": "markdown",
      "id": "480b78a9",
      "metadata": {
        "id": "480b78a9"
      },
      "source": [
        "To learn more about the many other features of LangServe [head here](/docs/langserve)."
      ]
    },
    {
      "cell_type": "markdown",
      "id": "befdb168",
      "metadata": {
        "id": "befdb168"
      },
      "source": [
        "## Conclusion\n",
        "\n",
        "That's it! In this tutorial you've learned how to create your first simple LLM application. You've learned how to work with language models, how to parse their outputs, how to create a prompt template, chaining them with LCEL, how to get great observability into chains you create with LangSmith, and how to deploy them with LangServe.\n",
        "\n",
        "This just scratches the surface of what you will want to learn to become a proficient AI Engineer. Luckily - we've got a lot of other resources!\n",
        "\n",
        "For further reading on the core concepts of LangChain, we've got detailed [Conceptual Guides](/docs/concepts).\n",
        "\n",
        "If you have more specific questions on these concepts, check out the following sections of the how-to guides:\n",
        "\n",
        "- [LangChain Expression Language (LCEL)](/docs/how_to/#langchain-expression-language-lcel)\n",
        "- [Prompt templates](/docs/how_to/#prompt-templates)\n",
        "- [Chat models](/docs/how_to/#chat-models)\n",
        "- [Output parsers](/docs/how_to/#output-parsers)\n",
        "- [LangServe](/docs/langserve/)\n",
        "\n",
        "And the LangSmith docs:\n",
        "\n",
        "- [LangSmith](https://docs.smith.langchain.com)"
      ]
    },
    {
      "cell_type": "code",
      "execution_count": null,
      "id": "a3d3e206",
      "metadata": {
        "id": "a3d3e206"
      },
      "outputs": [],
      "source": []
    }
  ],
  "metadata": {
    "kernelspec": {
      "display_name": "Python 3 (ipykernel)",
      "language": "python",
      "name": "python3"
    },
    "language_info": {
      "codemirror_mode": {
        "name": "ipython",
        "version": 3
      },
      "file_extension": ".py",
      "mimetype": "text/x-python",
      "name": "python",
      "nbconvert_exporter": "python",
      "pygments_lexer": "ipython3",
      "version": "3.11.8"
    },
    "colab": {
      "provenance": []
    }
  },
  "nbformat": 4,
  "nbformat_minor": 5
}